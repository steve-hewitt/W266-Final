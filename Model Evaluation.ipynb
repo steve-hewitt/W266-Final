{
 "cells": [
  {
   "cell_type": "code",
   "execution_count": 1,
   "id": "5fc38502",
   "metadata": {},
   "outputs": [],
   "source": [
    "# Import block\n",
    "\n",
    "import json\n",
    "import datasets"
   ]
  },
  {
   "cell_type": "code",
   "execution_count": 2,
   "id": "2e604b08",
   "metadata": {},
   "outputs": [],
   "source": [
    "with open('reference_dict_base256.json', 'r') as fp:\n",
    "    reference_dict = json.load(fp)\n",
    "with open('prediction_dict_base256.json', 'r') as fp:\n",
    "    prediction_dict = json.load(fp)"
   ]
  },
  {
   "cell_type": "code",
   "execution_count": 3,
   "id": "e5288131",
   "metadata": {},
   "outputs": [
    {
     "name": "stdout",
     "output_type": "stream",
     "text": [
      "['accuracy', 'bertscore', 'bleu', 'bleurt', 'cer', 'chrf', 'code_eval', 'comet', 'competition_math', 'coval', 'cuad', 'exact_match', 'f1', 'frugalscore', 'glue', 'google_bleu', 'indic_glue', 'mae', 'mahalanobis', 'matthews_correlation', 'mauve', 'mean_iou', 'meteor', 'mse', 'pearsonr', 'perplexity', 'poseval', 'precision', 'recall', 'rl_reliability', 'roc_auc', 'rouge', 'sacrebleu', 'sari', 'seqeval', 'spearmanr', 'squad', 'squad_v2', 'super_glue', 'ter', 'trec_eval', 'wer', 'wiki_split', 'xnli', 'xtreme_s', 'angelina-wang/directional_bias_amplification', 'codeparrot/apps_metric', 'cpllab/syntaxgym', 'daiyizheng/valid', 'erntkn/dice_coefficient', 'hack/test_metric', 'jordyvl/ece', 'kaggle/ai4code', 'kaggle/amex', 'loubnabnl/apps_metric2', 'lvwerra/bary_score', 'lvwerra/test', 'mfumanelli/geometric_mean', 'mgfrantz/roc_auc_macro', 'yzha/ctc_eval']\n"
     ]
    }
   ],
   "source": [
    "# List possible evaluation metrics\n",
    "from datasets import list_metrics\n",
    "\n",
    "metrics_list = list_metrics()\n",
    "len(metrics_list)\n",
    "print(metrics_list)"
   ]
  },
  {
   "cell_type": "code",
   "execution_count": 4,
   "id": "d7936c1b",
   "metadata": {},
   "outputs": [
    {
     "name": "stdout",
     "output_type": "stream",
     "text": [
      "{'score': 28.630559516383297, 'counts': [44539, 25754, 15439, 8184], 'totals': [74335, 69050, 63765, 58480], 'precisions': [59.91659379834533, 37.297610427226644, 24.21234219399357, 13.99452804377565], 'bp': 0.9705636887475402, 'sys_len': 74335, 'ref_len': 76556}\n",
      "{'bleu': 0.0, 'precisions': [0.036707663197729425, 0.0, 0.0, 0.0], 'brevity_penalty': 1.0, 'length_ratio': 1.0, 'translation_length': 5285, 'reference_length': 5285}\n",
      "{'rouge-1': {'r': 0.46137160023816876, 'p': 0.4344906338571138, 'f': 0.43519449485618383}, 'rouge-2': {'r': 0.26169276454657986, 'p': 0.24461453867303534, 'f': 0.24533792446617533}, 'rouge-l': {'r': 0.44466565926891516, 'p': 0.4188890481329193, 'f': 0.4195669656129433}}\n"
     ]
    }
   ],
   "source": [
    "from rouge import Rouge\n",
    "\n",
    "# Calculate multiple eval metrics\n",
    "metrics = ['sacrebleu', 'bleu']\n",
    "for eval_metric in metrics:\n",
    "    metric = datasets.load_metric(eval_metric)\n",
    "    fin_targets = [reference_dict['values'][x]['target'] for x in range(0,len(reference_dict['values']))]\n",
    "    fin_preds = [prediction_dict['values'][x]['generated'].split('\\t')[0] for x in range(0,len(prediction_dict['values']))]\n",
    "    for model_predictions, gold_references in zip(fin_preds,fin_targets):\n",
    "        metric.add(predictions=[model_predictions], references=[gold_references])\n",
    "    final_score = metric.compute()\n",
    "    print(final_score)\n",
    "\n",
    "# Converting into format required by rouge\n",
    "fin_targets = [''.join(ele) for ele in fin_targets]\n",
    "fin_preds = [''.join(ele) for ele in fin_preds]\n",
    "rouge = Rouge()\n",
    "print(rouge.get_scores(fin_targets, fin_preds, avg=True))"
   ]
  }
 ],
 "metadata": {
  "kernelspec": {
   "display_name": "Python 3",
   "language": "python",
   "name": "python3"
  },
  "language_info": {
   "codemirror_mode": {
    "name": "ipython",
    "version": 3
   },
   "file_extension": ".py",
   "mimetype": "text/x-python",
   "name": "python",
   "nbconvert_exporter": "python",
   "pygments_lexer": "ipython3",
   "version": "3.6.13"
  }
 },
 "nbformat": 4,
 "nbformat_minor": 5
}
